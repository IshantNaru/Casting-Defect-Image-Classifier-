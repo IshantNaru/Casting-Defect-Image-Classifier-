{
 "cells": [
  {
   "cell_type": "code",
   "execution_count": 1,
   "metadata": {
    "execution": {
     "iopub.execute_input": "2021-09-28T08:49:11.551415Z",
     "iopub.status.busy": "2021-09-28T08:49:11.551092Z",
     "iopub.status.idle": "2021-09-28T08:49:11.560437Z",
     "shell.execute_reply": "2021-09-28T08:49:11.559742Z",
     "shell.execute_reply.started": "2021-09-28T08:49:11.551370Z"
    }
   },
   "outputs": [],
   "source": [
    "#importing all the important libraries\n",
    "import pandas as pd\n",
    "import numpy as np \n",
    "import matplotlib.pyplot as plt \n",
    "%matplotlib inline \n",
    "import tensorflow as tf\n",
    "import cv2 as cv"
   ]
  },
  {
   "cell_type": "code",
   "execution_count": 10,
   "metadata": {
    "execution": {
     "iopub.execute_input": "2021-09-28T08:49:11.562883Z",
     "iopub.status.busy": "2021-09-28T08:49:11.562156Z",
     "iopub.status.idle": "2021-09-28T08:49:11.570376Z",
     "shell.execute_reply": "2021-09-28T08:49:11.569527Z",
     "shell.execute_reply.started": "2021-09-28T08:49:11.562769Z"
    }
   },
   "outputs": [],
   "source": [
    "#Defining path for dataset (on kaggle)\n",
    "train_dir = '../input/real-life-industrial-dataset-of-casting-product/casting_data/casting_data/train'\n",
    "test_dir = '../input/real-life-industrial-dataset-of-casting-product/casting_data/casting_data/test'"
   ]
  },
  {
   "cell_type": "code",
   "execution_count": 3,
   "metadata": {
    "execution": {
     "iopub.execute_input": "2021-09-28T08:49:11.571839Z",
     "iopub.status.busy": "2021-09-28T08:49:11.571576Z",
     "iopub.status.idle": "2021-09-28T08:49:11.579297Z",
     "shell.execute_reply": "2021-09-28T08:49:11.578655Z",
     "shell.execute_reply.started": "2021-09-28T08:49:11.571807Z"
    }
   },
   "outputs": [],
   "source": [
    "#reproducibility\n",
    "np.random.seed(45)\n",
    "tf.random.set_seed(45)"
   ]
  },
  {
   "cell_type": "code",
   "execution_count": 2,
   "metadata": {
    "execution": {
     "iopub.execute_input": "2021-09-28T08:49:11.580952Z",
     "iopub.status.busy": "2021-09-28T08:49:11.580695Z",
     "iopub.status.idle": "2021-09-28T08:49:11.588966Z",
     "shell.execute_reply": "2021-09-28T08:49:11.588275Z",
     "shell.execute_reply.started": "2021-09-28T08:49:11.580921Z"
    }
   },
   "outputs": [],
   "source": [
    "#Using ImageDataGenerator for importing and Preprocessing the data \n",
    "from tensorflow.keras.preprocessing.image import ImageDataGenerator as IDG\n",
    "\n",
    "train_datagen = IDG(rescale=1./255,\n",
    "                    zoom_range=0.15,\n",
    "                    brightness_range=[0.8,1.0],\n",
    "                    shear_range=0.1,\n",
    "                    validation_split = 0.22\n",
    "                   )\n",
    "test_datagen = IDG(rescale=1./255)"
   ]
  },
  {
   "cell_type": "code",
   "execution_count": 13,
   "metadata": {
    "execution": {
     "iopub.execute_input": "2021-09-28T08:49:11.593271Z",
     "iopub.status.busy": "2021-09-28T08:49:11.592555Z",
     "iopub.status.idle": "2021-09-28T08:49:12.042083Z",
     "shell.execute_reply": "2021-09-28T08:49:12.041332Z",
     "shell.execute_reply.started": "2021-09-28T08:49:11.593235Z"
    }
   },
   "outputs": [
    {
     "name": "stdout",
     "output_type": "stream",
     "text": [
      "Found 5175 images belonging to 2 classes.\n",
      "Found 1458 images belonging to 2 classes.\n"
     ]
    }
   ],
   "source": [
    "train_generator = train_datagen.flow_from_directory(\n",
    "                  train_dir,\n",
    "                  color_mode = 'grayscale',\n",
    "                  target_size = (300,300),\n",
    "                  batch_size = 100,\n",
    "                  classes={'ok_front':0, 'def_front':1},\n",
    "                  class_mode = 'binary',\n",
    "                  seed=45,\n",
    "                  subset='training')\n",
    "val_generator =   train_datagen.flow_from_directory(\n",
    "                  train_dir,\n",
    "                  color_mode = 'grayscale',\n",
    "                  target_size = (300,300),\n",
    "                  batch_size = 50,\n",
    "                  classes={'ok_front':0, 'def_front':1},\n",
    "                  class_mode = 'binary',\n",
    "                  seed=45,\n",
    "                  subset='validation')     "
   ]
  },
  {
   "cell_type": "code",
   "execution_count": 14,
   "metadata": {
    "execution": {
     "iopub.execute_input": "2021-09-28T08:49:12.043586Z",
     "iopub.status.busy": "2021-09-28T08:49:12.043352Z",
     "iopub.status.idle": "2021-09-28T08:49:12.164012Z",
     "shell.execute_reply": "2021-09-28T08:49:12.163310Z",
     "shell.execute_reply.started": "2021-09-28T08:49:12.043554Z"
    }
   },
   "outputs": [
    {
     "name": "stdout",
     "output_type": "stream",
     "text": [
      "Model: \"sequential_1\"\n",
      "_________________________________________________________________\n",
      "Layer (type)                 Output Shape              Param #   \n",
      "=================================================================\n",
      "conv2d_9 (Conv2D)            (None, 300, 300, 32)      320       \n",
      "_________________________________________________________________\n",
      "conv2d_10 (Conv2D)           (None, 300, 300, 32)      9248      \n",
      "_________________________________________________________________\n",
      "max_pooling2d_4 (MaxPooling2 (None, 150, 150, 32)      0         \n",
      "_________________________________________________________________\n",
      "conv2d_11 (Conv2D)           (None, 150, 150, 64)      18496     \n",
      "_________________________________________________________________\n",
      "conv2d_12 (Conv2D)           (None, 150, 150, 64)      36928     \n",
      "_________________________________________________________________\n",
      "max_pooling2d_5 (MaxPooling2 (None, 75, 75, 64)        0         \n",
      "_________________________________________________________________\n",
      "conv2d_13 (Conv2D)           (None, 75, 75, 128)       73856     \n",
      "_________________________________________________________________\n",
      "conv2d_14 (Conv2D)           (None, 75, 75, 128)       147584    \n",
      "_________________________________________________________________\n",
      "conv2d_15 (Conv2D)           (None, 75, 75, 128)       147584    \n",
      "_________________________________________________________________\n",
      "max_pooling2d_6 (MaxPooling2 (None, 37, 37, 128)       0         \n",
      "_________________________________________________________________\n",
      "conv2d_16 (Conv2D)           (None, 37, 37, 256)       295168    \n",
      "_________________________________________________________________\n",
      "conv2d_17 (Conv2D)           (None, 37, 37, 256)       590080    \n",
      "_________________________________________________________________\n",
      "max_pooling2d_7 (MaxPooling2 (None, 18, 18, 256)       0         \n",
      "_________________________________________________________________\n",
      "flatten_1 (Flatten)          (None, 82944)             0         \n",
      "_________________________________________________________________\n",
      "dense_2 (Dense)              (None, 300)               24883500  \n",
      "_________________________________________________________________\n",
      "dropout_1 (Dropout)          (None, 300)               0         \n",
      "_________________________________________________________________\n",
      "dense_3 (Dense)              (None, 1)                 301       \n",
      "=================================================================\n",
      "Total params: 26,203,065\n",
      "Trainable params: 26,203,065\n",
      "Non-trainable params: 0\n",
      "_________________________________________________________________\n"
     ]
    }
   ],
   "source": [
    "#Defining the CNN Model\n",
    "from tensorflow.keras import Sequential, layers\n",
    "\n",
    "model = Sequential([\n",
    "    layers.Conv2D(32, (3,3), input_shape=(300,300,1), activation='relu', padding='same' ),\n",
    "    layers.Conv2D(32, (3,3), activation='relu', padding='same' ),\n",
    "    layers.MaxPooling2D((2,2), strides=2),\n",
    "    layers.Conv2D(64, (3,3), activation='relu', padding='same' ),\n",
    "    layers.Conv2D(64, (3,3), activation='relu', padding='same' ),\n",
    "    layers.MaxPooling2D((2,2), strides=2),\n",
    "    layers.Conv2D(128, (3,3), activation='relu', padding='same' ),\n",
    "    layers.Conv2D(128, (3,3), activation='relu', padding='same' ),\n",
    "    layers.Conv2D(128, (3,3), activation='relu', padding='same' ),\n",
    "    layers.MaxPooling2D((2,2), strides=2),\n",
    "    layers.Conv2D(256, (3,3), activation='relu', padding='same' ),\n",
    "    layers.Conv2D(256, (3,3), activation='relu', padding='same' ),\n",
    "    layers.MaxPooling2D((2,2), strides=2),\n",
    "    layers.Flatten(),\n",
    "    layers.Dense(300, activation='relu'),\n",
    "    layers.Dropout(rate=0.3),\n",
    "    layers.Dense(1, activation='sigmoid')\n",
    "    \n",
    "])\n",
    "model.summary()"
   ]
  },
  {
   "cell_type": "code",
   "execution_count": 15,
   "metadata": {
    "execution": {
     "iopub.execute_input": "2021-09-28T08:49:12.166307Z",
     "iopub.status.busy": "2021-09-28T08:49:12.166058Z",
     "iopub.status.idle": "2021-09-28T08:49:12.179024Z",
     "shell.execute_reply": "2021-09-28T08:49:12.177983Z",
     "shell.execute_reply.started": "2021-09-28T08:49:12.166273Z"
    }
   },
   "outputs": [],
   "source": [
    "#Compiling the model with loss, optimizer and metrics \n",
    "model.compile(loss='binary_crossentropy',\n",
    "              optimizer='adam',\n",
    "              metrics = ['accuracy'])"
   ]
  },
  {
   "cell_type": "code",
   "execution_count": 19,
   "metadata": {
    "execution": {
     "iopub.execute_input": "2021-09-28T08:57:14.443304Z",
     "iopub.status.busy": "2021-09-28T08:57:14.442677Z",
     "iopub.status.idle": "2021-09-28T08:57:14.450366Z",
     "shell.execute_reply": "2021-09-28T08:57:14.448015Z",
     "shell.execute_reply.started": "2021-09-28T08:57:14.443261Z"
    }
   },
   "outputs": [],
   "source": [
    "#Creating callbacks for saving the model during training \n",
    "from tensorflow import keras\n",
    "checkpoint_cb=keras.callbacks.ModelCheckpoint(\"Cast_Def.h5\", save_best_only=True)\n",
    "early_stopping_cb = keras.callbacks.EarlyStopping(min_delta=0.00001,\n",
    "                                                  patience=8, \n",
    "                                                  restore_best_weights=True)"
   ]
  },
  {
   "cell_type": "code",
   "execution_count": 20,
   "metadata": {
    "execution": {
     "iopub.execute_input": "2021-09-28T08:57:16.552701Z",
     "iopub.status.busy": "2021-09-28T08:57:16.552428Z",
     "iopub.status.idle": "2021-09-28T09:28:51.878954Z",
     "shell.execute_reply": "2021-09-28T09:28:51.878131Z",
     "shell.execute_reply.started": "2021-09-28T08:57:16.552670Z"
    }
   },
   "outputs": [
    {
     "name": "stdout",
     "output_type": "stream",
     "text": [
      "Epoch 1/30\n",
      "52/52 [==============================] - 63s 1s/step - loss: 0.5634 - accuracy: 0.7074 - val_loss: 0.5034 - val_accuracy: 0.7606\n",
      "Epoch 2/30\n",
      "52/52 [==============================] - 63s 1s/step - loss: 0.5440 - accuracy: 0.7260 - val_loss: 0.4612 - val_accuracy: 0.7723\n",
      "Epoch 3/30\n",
      "52/52 [==============================] - 62s 1s/step - loss: 0.4281 - accuracy: 0.7988 - val_loss: 0.3562 - val_accuracy: 0.8422\n",
      "Epoch 4/30\n",
      "52/52 [==============================] - 63s 1s/step - loss: 0.3266 - accuracy: 0.8524 - val_loss: 0.2731 - val_accuracy: 0.8779\n",
      "Epoch 5/30\n",
      "52/52 [==============================] - 63s 1s/step - loss: 0.2713 - accuracy: 0.8856 - val_loss: 0.2409 - val_accuracy: 0.9088\n",
      "Epoch 6/30\n",
      "52/52 [==============================] - 63s 1s/step - loss: 0.1940 - accuracy: 0.9239 - val_loss: 0.1569 - val_accuracy: 0.9390\n",
      "Epoch 7/30\n",
      "52/52 [==============================] - 63s 1s/step - loss: 0.2148 - accuracy: 0.9146 - val_loss: 0.1838 - val_accuracy: 0.9280\n",
      "Epoch 8/30\n",
      "52/52 [==============================] - 62s 1s/step - loss: 0.1467 - accuracy: 0.9440 - val_loss: 0.1424 - val_accuracy: 0.9438\n",
      "Epoch 9/30\n",
      "52/52 [==============================] - 63s 1s/step - loss: 0.1086 - accuracy: 0.9621 - val_loss: 0.1049 - val_accuracy: 0.9643\n",
      "Epoch 10/30\n",
      "52/52 [==============================] - 63s 1s/step - loss: 0.0978 - accuracy: 0.9654 - val_loss: 0.0952 - val_accuracy: 0.9575\n",
      "Epoch 11/30\n",
      "52/52 [==============================] - 62s 1s/step - loss: 0.0764 - accuracy: 0.9712 - val_loss: 0.0631 - val_accuracy: 0.9794\n",
      "Epoch 12/30\n",
      "52/52 [==============================] - 63s 1s/step - loss: 0.0669 - accuracy: 0.9801 - val_loss: 0.0759 - val_accuracy: 0.9760\n",
      "Epoch 13/30\n",
      "52/52 [==============================] - 62s 1s/step - loss: 0.0859 - accuracy: 0.9679 - val_loss: 0.0934 - val_accuracy: 0.9602\n",
      "Epoch 14/30\n",
      "52/52 [==============================] - 63s 1s/step - loss: 0.0694 - accuracy: 0.9766 - val_loss: 0.0627 - val_accuracy: 0.9787\n",
      "Epoch 15/30\n",
      "52/52 [==============================] - 63s 1s/step - loss: 0.0393 - accuracy: 0.9863 - val_loss: 0.0514 - val_accuracy: 0.9842\n",
      "Epoch 16/30\n",
      "52/52 [==============================] - 63s 1s/step - loss: 0.0468 - accuracy: 0.9830 - val_loss: 0.0748 - val_accuracy: 0.9684\n",
      "Epoch 17/30\n",
      "52/52 [==============================] - 62s 1s/step - loss: 0.0415 - accuracy: 0.9857 - val_loss: 0.0425 - val_accuracy: 0.9842\n",
      "Epoch 18/30\n",
      "52/52 [==============================] - 62s 1s/step - loss: 0.0271 - accuracy: 0.9898 - val_loss: 0.0638 - val_accuracy: 0.9829\n",
      "Epoch 19/30\n",
      "52/52 [==============================] - 63s 1s/step - loss: 0.0647 - accuracy: 0.9764 - val_loss: 0.0438 - val_accuracy: 0.9835\n",
      "Epoch 20/30\n",
      "52/52 [==============================] - 62s 1s/step - loss: 0.0422 - accuracy: 0.9865 - val_loss: 0.0395 - val_accuracy: 0.9842\n",
      "Epoch 21/30\n",
      "52/52 [==============================] - 62s 1s/step - loss: 0.0338 - accuracy: 0.9898 - val_loss: 0.0525 - val_accuracy: 0.9829\n",
      "Epoch 22/30\n",
      "52/52 [==============================] - 62s 1s/step - loss: 0.0375 - accuracy: 0.9886 - val_loss: 0.0489 - val_accuracy: 0.9835\n",
      "Epoch 23/30\n",
      "52/52 [==============================] - 63s 1s/step - loss: 0.0309 - accuracy: 0.9898 - val_loss: 0.0434 - val_accuracy: 0.9849\n",
      "Epoch 24/30\n",
      "52/52 [==============================] - 63s 1s/step - loss: 0.0299 - accuracy: 0.9898 - val_loss: 0.0404 - val_accuracy: 0.9849\n",
      "Epoch 25/30\n",
      "52/52 [==============================] - 62s 1s/step - loss: 0.0360 - accuracy: 0.9857 - val_loss: 0.0400 - val_accuracy: 0.9877\n",
      "Epoch 26/30\n",
      "52/52 [==============================] - 63s 1s/step - loss: 0.0247 - accuracy: 0.9929 - val_loss: 0.0307 - val_accuracy: 0.9911\n",
      "Epoch 27/30\n",
      "52/52 [==============================] - 63s 1s/step - loss: 0.0383 - accuracy: 0.9876 - val_loss: 0.0485 - val_accuracy: 0.9856\n",
      "Epoch 28/30\n",
      "52/52 [==============================] - 63s 1s/step - loss: 0.0368 - accuracy: 0.9861 - val_loss: 0.0423 - val_accuracy: 0.9856\n",
      "Epoch 29/30\n",
      "52/52 [==============================] - 63s 1s/step - loss: 0.0217 - accuracy: 0.9907 - val_loss: 0.0423 - val_accuracy: 0.9863\n",
      "Epoch 30/30\n",
      "52/52 [==============================] - 63s 1s/step - loss: 0.0197 - accuracy: 0.9925 - val_loss: 0.0321 - val_accuracy: 0.9918\n"
     ]
    }
   ],
   "source": [
    "#Fitting the model on the dataset \n",
    "history = model.fit(train_generator,\n",
    "          epochs = 30,\n",
    "          steps_per_epoch = 52,\n",
    "          validation_data = val_generator,\n",
    "          validation_steps = 30,\n",
    "          callbacks = [checkpoint_cb, early_stopping_cb])"
   ]
  },
  {
   "cell_type": "code",
   "execution_count": 21,
   "metadata": {
    "execution": {
     "iopub.execute_input": "2021-09-28T09:28:56.574870Z",
     "iopub.status.busy": "2021-09-28T09:28:56.574097Z",
     "iopub.status.idle": "2021-09-28T09:28:56.907173Z",
     "shell.execute_reply": "2021-09-28T09:28:56.906271Z",
     "shell.execute_reply.started": "2021-09-28T09:28:56.574829Z"
    }
   },
   "outputs": [
    {
     "data": {
      "image/png": "[encoded data removed]",
      "text/plain": [
       "<Figure size 720x504 with 1 Axes>"
      ]
     },
     "metadata": {
      "needs_background": "light"
     },
     "output_type": "display_data"
    }
   ],
   "source": [
    "#Visualising the results \n",
    "pd.DataFrame(history.history).plot(figsize=(10,7))\n",
    "plt.grid(True)\n",
    "plt.gca().set_ylim(0,1)\n",
    "plt.show()"
   ]
  },
  {
   "cell_type": "code",
   "execution_count": 4,
   "metadata": {},
   "outputs": [
    {
     "name": "stdout",
     "output_type": "stream",
     "text": [
      "Found 715 images belonging to 2 classes.\n"
     ]
    }
   ],
   "source": [
    "#Testing the model on new unseen data \n",
    "test_dir = 'C:/Users/Ishant Naru/Desktop/Casting Data/casting_data/casting_data/test'\n",
    "\n",
    "\n",
    "\n",
    "test_generator = test_datagen.flow_from_directory(\n",
    "                  test_dir,\n",
    "                  color_mode = 'grayscale',\n",
    "                  target_size = (300,300),\n",
    "                  batch_size = 72,\n",
    "                  classes={'ok_front':0, 'def_front':1},\n",
    "                  class_mode = 'binary',\n",
    "                  seed=45)"
   ]
  },
  {
   "cell_type": "code",
   "execution_count": 6,
   "metadata": {},
   "outputs": [],
   "source": [
    "#Loading the model on local system\n",
    "model = tf.keras.models.load_model('C:/Users/Ishant Naru/Desktop/Casting Data/Cast_Def.h5')\n",
    "\n",
    "model.compile(loss='binary_crossentropy',\n",
    "              optimizer='adam',\n",
    "              metrics = ['accuracy'])"
   ]
  },
  {
   "cell_type": "code",
   "execution_count": 7,
   "metadata": {},
   "outputs": [
    {
     "name": "stdout",
     "output_type": "stream",
     "text": [
      "10/10 [==============================] - 118s 9s/step - loss: 0.0489 - accuracy: 0.9846\n"
     ]
    },
    {
     "data": {
      "text/plain": [
       "[0.04891540855169296, 0.9846153855323792]"
      ]
     },
     "execution_count": 7,
     "metadata": {},
     "output_type": "execute_result"
    }
   ],
   "source": [
    "#Evaluating the model performance on test dataset \n",
    "model.evaluate(test_generator, steps=10)"
   ]
  }
 ],
 "metadata": {
  "kernelspec": {
   "display_name": "Python 3 (ipykernel)",
   "language": "python",
   "name": "python3"
  },
  "language_info": {
   "codemirror_mode": {
    "name": "ipython",
    "version": 3
   },
   "file_extension": ".py",
   "mimetype": "text/x-python",
   "name": "python",
   "nbconvert_exporter": "python",
   "pygments_lexer": "ipython3",
   "version": "3.8.8"
  }
 },
 "nbformat": 4,
 "nbformat_minor": 4
}
